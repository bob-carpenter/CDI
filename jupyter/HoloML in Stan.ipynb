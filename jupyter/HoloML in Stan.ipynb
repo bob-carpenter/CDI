{
 "cells": [
  {
   "cell_type": "markdown",
   "id": "880e629e-b130-4ab1-aeac-24dc1eb17f5a",
   "metadata": {},
   "source": [
    "# HoloML in Stan\n",
    "### Brian Ward, Bob Carpenter, and David Barmherzig\n",
    "#### June 13, 2022\n",
    "\n",
    "This case study is a re-implementation of the algorithm described in *David A. Barmherzig and Ju Sun, \"Towards practical holographic coherent diffraction imaging via maximum likelihood estimation,\" Opt. Express 30, 6886-6906 (2022)* in as a Stan model."
   ]
  },
  {
   "cell_type": "markdown",
   "id": "32cc43f7-03a1-4cac-9385-8c4959f07bd6",
   "metadata": {},
   "source": [
    "### Motivating Problem \n",
    "\n",
    "The experimental setup is as follows:\n",
    "A biomolecule is placed some distance away from a known reference pattern. A radiation source, usually an X-Ray, is diffracted by both the specimen and the reference, and the resulting photon flux is measured by a far-field detector. This photon flux is approximately the squared magnitude of the Fourier transform of the electric field causing the diffraction. Inverting this to recover an image of the specimen is a problem usually known as *phase retrevial*. \n",
    "\n",
    "The number of photons each detector recieves on average is $N_p$. It is desirable that retrevial be performed when this value is small (> 10) due to the damage the radiation causes the biomolecule under observation. Furthermore, to prevent damage to the detectors, the lowest frequencies are removed by a *beamstop*. \n",
    "\n",
    "In more general terms, the problem of holographic coherent diffraction imaging is to recover an image from 1) the magnitude of the Fourier transform of that image concatenated with a reference image, and 2) the known reference image. "
   ]
  },
  {
   "cell_type": "markdown",
   "id": "08429f5d-17bf-499d-81e5-33d94b935200",
   "metadata": {},
   "source": [
    "## Stan Model Code\n",
    "\n",
    "The Stan model code is as follows. This is a direct translation of the log probability described in the paper, with the following notes:\n",
    "\n",
    "- The FFT described in the paper is an \"oversampled\" FFT. This corresponds to embedding the image in a larger array of zeros. \n",
    "- A prior is added to impose an L2 penalty on adjacent pixels. This is not strictly necessary, and for low values of `sigma` induces a Gaussian blur."
   ]
  },
  {
   "cell_type": "code",
   "execution_count": null,
   "id": "cd3f7ab9-6abb-4ae5-b8b7-9734bc989808",
   "metadata": {},
   "outputs": [],
   "source": [
    "# use https://pypi.org/project/cmdstanjupyter/ to display the model inline\n",
    "%load_ext cmdstanjupyter"
   ]
  },
  {
   "cell_type": "code",
   "execution_count": null,
   "id": "1e4208c5-056f-48b3-870b-67a7df65d180",
   "metadata": {},
   "outputs": [],
   "source": [
    "%%stan HoloML_model\n",
    "functions {\n",
    "  /**\n",
    "   * Return M1 x M2 matrix of 1 values with blocks in corners set to\n",
    "   * 0, where the upper left is (r x r), the upper right is (r x r-1),\n",
    "   * the lower left is (r-1 x r), and the lower right is (r-1 x r-1).\n",
    "   * This corresponds to zeroing out the lowest-frequency portions of\n",
    "   * an FFT.\n",
    "   * @param M1 number of rows\n",
    "   * @param M2 number of cols\n",
    "   * @param r block dimension\n",
    "   * @return matrix of 1 values with 0-padded corners\n",
    "   */\n",
    "  matrix pad_corners(int M1, int M2, int r) {\n",
    "    matrix[M1, M2] B_cal = rep_matrix(1, M1, M2);\n",
    "    if (r == 0) {\n",
    "      return B_cal;\n",
    "    }\n",
    "    // upper left\n",
    "    B_cal[1 : r, 1 : r] = rep_matrix(0, r, r);\n",
    "    // upper right\n",
    "    B_cal[1 : r, M2 - r + 2 : M2] = rep_matrix(0, r, r - 1);\n",
    "    // lower left\n",
    "    B_cal[M1 - r + 2 : M1, 1 : r] = rep_matrix(0, r - 1, r);\n",
    "    // lower right\n",
    "    B_cal[M1 - r + 2 : M1, M2 - r + 2 : M2] = rep_matrix(0, r - 1, r - 1);\n",
    "    return B_cal;\n",
    "  }\n",
    "\n",
    "  /**\n",
    "   * Return result of separating X and R with a matrix of 0s and then\n",
    "   * 0 padding to right and below.  That is, assuming X and R are the\n",
    "   * same shape and 0 is a matrix of zeros of the same shape, the\n",
    "   * result is\n",
    "   *\n",
    "   *  [X, 0, R]  | 0\n",
    "   *  --------------\n",
    "   *      0      | 0\n",
    "   *\n",
    "   * @param X X matrix\n",
    "   * @param R R matrix\n",
    "   * @return 0-padded [X, 0, R] matrix\n",
    "   */\n",
    "  matrix pad(matrix X, matrix R, int d, int M1, int M2) {\n",
    "    matrix[M1, M2] y = rep_matrix(0, M1, M2);\n",
    "    int N = rows(X);\n",
    "    y[1 : N, 1 : N] = X;\n",
    "    y[1 : N,  N + d + 1 : 2 * N + d] = R;\n",
    "    return y;\n",
    "  }\n",
    "}\n",
    "\n",
    "data {\n",
    "  int<lower=0> N;                     // image dimension\n",
    "  matrix<lower=0, upper=1>[N, N] R;   // registration image\n",
    "  int<lower=0, upper=N> d;            // separation between sample and registration image\n",
    "  int<lower=N> M1;                    // rows of padded matrices\n",
    "  int<lower=2 * N + d> M2;            // cols of padded matrices\n",
    "  int<lower=0, upper=M1> r;           // beamstop radius. replaces omega1, omega2 in paper\n",
    "\n",
    "  real<lower=0> N_p;                  // avg number of photons per pixel\n",
    "  array[M1, M2] int<lower=0> Y_tilde; // observed number of photons\n",
    "\n",
    "  real<lower=0> sigma;                // standard deviation of pixel prior\n",
    "}\n",
    "\n",
    "transformed data {\n",
    "  matrix[M1, M2] B_cal = pad_corners(M1, M2, r);\n",
    "}\n",
    "\n",
    "parameters {\n",
    "  matrix<lower=0, upper=1>[N, N] X;\n",
    "}\n",
    "\n",
    "model {\n",
    "  matrix[M1, M2] X0R_pad = pad(X, R, d, M1, M2);\n",
    "  matrix[M1, M2] Y = abs(fft2(X0R_pad)) .^ 2;\n",
    "  real Y_bar = mean(Y);\n",
    "\n",
    "  // prior\n",
    "  for (i in 1 : rows(X) - 1) {\n",
    "    X[i] ~ normal(X[i + 1], sigma);\n",
    "  }\n",
    "  for (j in 1 : cols(X) - 1) {\n",
    "    X[ : , j] ~ normal(X[ : , j + 1], sigma);\n",
    "  }\n",
    "\n",
    "  // likelihood\n",
    "  real N_p_over_Y_bar = N_p / Y_bar;\n",
    "  matrix[M1, M2] lambda = N_p_over_Y_bar * Y;\n",
    "\n",
    "  for (m1 in 1 : M1) {\n",
    "    for (m2 in 1 : M2) {\n",
    "      if (B_cal[m1, m2] == 1) {\n",
    "        Y_tilde[m1, m2] ~ poisson(lambda[m1, m2]);\n",
    "      }\n",
    "    }\n",
    "  }\n",
    "}"
   ]
  },
  {
   "cell_type": "markdown",
   "id": "f8679ae1-e9d0-41c4-a73a-95bb561b7dfe",
   "metadata": {},
   "source": [
    "## Simulating Data\n",
    "\n",
    "We simulate data from the generative model directly. This corresponds to the work done in Barmherzig and Sun, and is based on MATLAB code provided by Barmherzig."
   ]
  },
  {
   "cell_type": "code",
   "execution_count": null,
   "id": "3260fb8b-6a4b-4fc0-a956-fbecc4483264",
   "metadata": {},
   "outputs": [],
   "source": [
    "import numpy as np\n",
    "from PIL import Image\n",
    "import matplotlib.image as mpimg\n",
    "import matplotlib.pyplot as plt\n",
    "from math import floor\n",
    "from scipy import stats\n",
    "\n",
    "def rgb2gray(rgb):\n",
    "    \"\"\"Convert a nxmx3 RGB array to a grayscale nxm array.\n",
    "\n",
    "    This function uses the same internal coefficients as MATLAB:\n",
    "    https://www.mathworks.com/help/matlab/ref/rgb2gray.html\n",
    "    \"\"\"\n",
    "    r, g, b = rgb[:, :, 0], rgb[:, :, 1], rgb[:, :, 2]\n",
    "    gray = 0.2989 * r + 0.5870 * g + 0.1140 * b\n",
    "\n",
    "    return gray"
   ]
  },
  {
   "cell_type": "code",
   "execution_count": null,
   "id": "c93efec2-328d-4669-99d8-6daddc804506",
   "metadata": {},
   "outputs": [],
   "source": [
    "# Simulation parameters:\n",
    "\n",
    "N = 256 # image size\n",
    "M1 = 2 * N \n",
    "M2 = 6 * N\n",
    "\n",
    "N_p = 1\n",
    "r = 12 "
   ]
  },
  {
   "cell_type": "code",
   "execution_count": null,
   "id": "16b8d50d-1d3c-4ee3-8811-aff16bbc9ae9",
   "metadata": {},
   "outputs": [],
   "source": [
    "# load in a specimin image\n",
    "X_True = rgb2gray(mpimg.imread('mimivirus.png'))\n",
    "N = X_True.shape[0]\n",
    "plt.imshow(X_True, cmap='gray', vmin=0, vmax=1)"
   ]
  },
  {
   "cell_type": "code",
   "execution_count": null,
   "id": "ad9dccfa-177d-45b1-8f27-6177b5afba62",
   "metadata": {},
   "outputs": [],
   "source": [
    "# Load the reference, a \"uniformly redundant array\"\n",
    "# Code to generate this omitted; various options such as https://github.com/bpops/cappy\n",
    "R = np.loadtxt('URA.csv', delimiter=\",\", dtype=int)\n",
    "plt.imshow(R, cmap='gray')"
   ]
  },
  {
   "cell_type": "code",
   "execution_count": null,
   "id": "a397dc9d-e8b4-4565-ae3b-a7fbe143d9f7",
   "metadata": {},
   "outputs": [],
   "source": [
    "# Create specimin-reference hybrid image\n",
    "X0R = np.concatenate([X_True, np.zeros((N,N)), R], axis=1)\n",
    "plt.imshow(X0R, cmap='gray')"
   ]
  },
  {
   "cell_type": "code",
   "execution_count": null,
   "id": "34b2925e-77be-4f30-9ea7-b979cf4931d5",
   "metadata": {},
   "outputs": [],
   "source": [
    "# Generate data\n",
    "Y = np.abs(np.fft.fft2(X0R, s=(M1, M2))) ** 2\n",
    "plt.imshow(np.fft.fftshift(np.log(1 + Y)), cmap=\"viridis\")"
   ]
  },
  {
   "cell_type": "code",
   "execution_count": null,
   "id": "25e3fe7a-8b2c-4c76-ab20-377b4219e117",
   "metadata": {},
   "outputs": [],
   "source": [
    "# Noise model\n",
    "rate = N_p/ Y.mean()\n",
    "Y_tilde = stats.poisson.rvs(rate * Y)\n",
    "plt.imshow(np.fft.fftshift(np.log(1 + Y_tilde)), cmap=\"viridis\")"
   ]
  },
  {
   "cell_type": "code",
   "execution_count": null,
   "id": "77193bce-dd6e-454f-b59e-135009fedf98",
   "metadata": {},
   "outputs": [],
   "source": [
    "# Beamstop occlusion\n",
    "B_cal = np.ones((M1,M2), dtype=int)\n",
    "B_cal[M1 // 2 - r: M1 // 2 + r + 1, M2 // 2 - r: M2 // 2 + r + 1] = 0\n",
    "B_cal = np.fft.ifftshift(B_cal)\n",
    "plt.imshow(np.fft.fftshift(B_cal), cmap='gray')"
   ]
  },
  {
   "cell_type": "code",
   "execution_count": null,
   "id": "34e40ec3-89bc-4544-9845-fbc53f53e185",
   "metadata": {},
   "outputs": [],
   "source": [
    "Y_tilde *= B_cal\n",
    "plt.imshow(np.fft.fftshift(np.log(1 + Y_tilde)), cmap=\"viridis\")"
   ]
  },
  {
   "cell_type": "markdown",
   "id": "e505892e-d284-476d-8516-fcf40ad2a9ad",
   "metadata": {},
   "source": [
    "This image shows the final input data of the simulated retrievals with noise and a beamstop occluding the lowest frequencies. "
   ]
  },
  {
   "cell_type": "markdown",
   "id": "cd160cb7-6562-4d2e-9d4a-f648b251ecc6",
   "metadata": {},
   "source": [
    "## Optimization\n",
    "\n",
    "Now that we have our simulated data and our generative model, we can attempt to recover the image. \n",
    "\n",
    "Here we use optimization via L-BFGS, as opposed to the conjugate gradient approach in the paper. \n",
    "It is also possible to sample the model using the No-U-Turn Sampler (NUTS), but at this image size it can take a few hours to do so."
   ]
  },
  {
   "cell_type": "code",
   "execution_count": null,
   "id": "0add6dea-6a0e-427d-aab2-dbb5bd01055d",
   "metadata": {},
   "outputs": [],
   "source": [
    "data = {\n",
    "    \"N\": N,\n",
    "    \"R\": R,\n",
    "    \"d\": N,\n",
    "    \"M1\": M1,\n",
    "    \"M2\": M2,\n",
    "    \"Y_tilde\": Y_tilde,\n",
    "    \"r\": r,\n",
    "    \"N_p\": N_p,\n",
    "    \"sigma\": 1, # prior smoothing\n",
    "}"
   ]
  },
  {
   "cell_type": "code",
   "execution_count": null,
   "id": "20463cb7-458f-43f0-bea7-ca0cba8b6da5",
   "metadata": {},
   "outputs": [],
   "source": [
    "%%time\n",
    "fit = HoloML_model.optimize(data, inits=1)"
   ]
  },
  {
   "cell_type": "code",
   "execution_count": null,
   "id": "acf43c0c-f240-4fdc-aaa0-174275b6378f",
   "metadata": {},
   "outputs": [],
   "source": [
    "plt.imshow(fit.stan_variable(\"X\"), cmap='gray', vmin=0, vmax=1)"
   ]
  }
 ],
 "metadata": {
  "kernelspec": {
   "display_name": "Python 3 (ipykernel)",
   "language": "python",
   "name": "python3"
  },
  "language_info": {
   "codemirror_mode": {
    "name": "ipython",
    "version": 3
   },
   "file_extension": ".py",
   "mimetype": "text/x-python",
   "name": "python",
   "nbconvert_exporter": "python",
   "pygments_lexer": "ipython3",
   "version": "3.10.4"
  }
 },
 "nbformat": 4,
 "nbformat_minor": 5
}
