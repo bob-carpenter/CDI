{
 "cells": [
  {
   "cell_type": "markdown",
   "id": "880e629e-b130-4ab1-aeac-24dc1eb17f5a",
   "metadata": {},
   "source": [
    "# HoloML in Stan\n",
    "### Brian Ward, Bob Carpenter, and David Barmherzig\n",
    "#### June 13, 2022\n",
    "\n",
    "This case study is a re-implementation of the algorithm described in *David A. Barmherzig and Ju Sun, \"Towards practical holographic coherent diffraction imaging via maximum likelihood estimation,\" Opt. Express 30, 6886-6906 (2022)* in as a Stan model."
   ]
  },
  {
   "cell_type": "markdown",
   "id": "32cc43f7-03a1-4cac-9385-8c4959f07bd6",
   "metadata": {},
   "source": [
    "### Motivating Problem \n",
    "\n",
    "The experimental setup is as follows:\n",
    "A biomolecule is placed some distance away from a known reference pattern. A radiation source, usually an X-Ray, is diffracted by both the specimen and the reference, and the resulting photon flux is measured by a far-field detector. This photon flux is approximately the squared magnitude of the Fourier transform of the electric field causing the diffraction. Inverting this to recover an image of the specimen is a problem usually known as *phase retrevial*. \n",
    "\n",
    "The number of photons each detector recieves on average is $N_p$. It is desirable that retrevial be performed when this value is small (> 10) due to the damage the radiation causes the biomolecule under observation. Furthermore, to prevent damage to the detectors, the lowest frequencies are removed by a *beamstop* which obscures further data. \n",
    "\n",
    "In more general terms, the problem of holographic coherent diffraction imaging is to recover an image from \n",
    "1) the magnitude of the Fourier transform of that image concatenated with a reference image \n",
    "2) that reference image. "
   ]
  },
  {
   "cell_type": "markdown",
   "id": "f8679ae1-e9d0-41c4-a73a-95bb561b7dfe",
   "metadata": {},
   "source": [
    "## Simulating Data\n",
    "\n",
    "We simulate data from the generative model directly. This corresponds to the work done in Barmherzig and Sun, and is based on MATLAB code provided by Barmherzig."
   ]
  },
  {
   "cell_type": "markdown",
   "id": "774ffc9e-5cf7-4a6b-a935-9126ea816f9b",
   "metadata": {},
   "source": [
    "#### Imports and helper code"
   ]
  },
  {
   "cell_type": "code",
   "execution_count": null,
   "id": "3260fb8b-6a4b-4fc0-a956-fbecc4483264",
   "metadata": {
    "tags": []
   },
   "outputs": [],
   "source": [
    "import numpy as np\n",
    "from scipy import stats\n",
    "\n",
    "import matplotlib.image as mpimg\n",
    "import matplotlib.pyplot as plt\n",
    "\n",
    "def rgb2gray(rgb):\n",
    "    \"\"\"Convert a nxmx3 RGB array to a grayscale nxm array.\n",
    "\n",
    "    This function uses the same internal coefficients as MATLAB:\n",
    "    https://www.mathworks.com/help/matlab/ref/rgb2gray.html\n",
    "    \"\"\"\n",
    "    r, g, b = rgb[:, :, 0], rgb[:, :, 1], rgb[:, :, 2]\n",
    "    gray = 0.2989 * r + 0.5870 * g + 0.1140 * b\n",
    "\n",
    "    return gray"
   ]
  },
  {
   "cell_type": "markdown",
   "id": "ff33fa51-143a-4a05-9119-eea801c548f8",
   "metadata": {
    "tags": []
   },
   "source": [
    "#### Simulation parameters. \n",
    "\n",
    "To match the figures in the paper (in particular, Figure 9), we use an image of size 256x256, $N_p = 1$ (meaning each detector only recieves, on average, one photon), and a beamstop of size 25x25 (corresponding to a radius of 13), and a seperation `d` equal to the size of the image."
   ]
  },
  {
   "cell_type": "code",
   "execution_count": null,
   "id": "c93efec2-328d-4669-99d8-6daddc804506",
   "metadata": {},
   "outputs": [],
   "source": [
    "N = 256\n",
    "d = N\n",
    "N_p = 1\n",
    "r = 13\n",
    "\n",
    "M1 = 2 * N \n",
    "M2 = 2 * (2 * N + d)"
   ]
  },
  {
   "cell_type": "markdown",
   "id": "c89073a4-1be0-4cf2-9be6-bae2b3500b6e",
   "metadata": {},
   "source": [
    "We can then load the \"Truth\" image used for these simulations. This is a picture of a giant virus known as a mimivirus."
   ]
  },
  {
   "cell_type": "code",
   "execution_count": null,
   "id": "16b8d50d-1d3c-4ee3-8811-aff16bbc9ae9",
   "metadata": {},
   "outputs": [],
   "source": [
    "X_True = rgb2gray(mpimg.imread('mimivirus.png'))\n",
    "N = X_True.shape[0]\n",
    "plt.imshow(X_True, cmap='gray', vmin=0, vmax=1)"
   ]
  },
  {
   "cell_type": "markdown",
   "id": "0314a491-0fdb-4a0f-8e04-491d95d8b821",
   "metadata": {},
   "source": [
    "Additionally, we load in the reference array. \n",
    "\n",
    "This pattern is known as a \"uniformly redundant array\". It has been shown to be an optimal reference image for this kind of work, but other references (including none at all) could be used.\n",
    "The code to generate it is omitted, various options such as [cappy](https://github.com/bpops/cappy)"
   ]
  },
  {
   "cell_type": "code",
   "execution_count": null,
   "id": "ad9dccfa-177d-45b1-8f27-6177b5afba62",
   "metadata": {},
   "outputs": [],
   "source": [
    "R = np.loadtxt('URA.csv', delimiter=\",\", dtype=int)\n",
    "plt.imshow(R, cmap='gray')"
   ]
  },
  {
   "cell_type": "markdown",
   "id": "95232de3-2b02-40cb-8f9f-b6b83bb49e2d",
   "metadata": {},
   "source": [
    "We can then create the specimen-reference hybrid image. In the true experiment, this is done by placing the specimen some distance `d` away from the reference, with opaque material between."
   ]
  },
  {
   "cell_type": "code",
   "execution_count": null,
   "id": "a397dc9d-e8b4-4565-ae3b-a7fbe143d9f7",
   "metadata": {},
   "outputs": [],
   "source": [
    "X0R = np.concatenate([X_True, np.zeros((N,d)), R], axis=1)\n",
    "plt.imshow(X0R, cmap='gray')"
   ]
  },
  {
   "cell_type": "markdown",
   "id": "6bb38a63-92ef-4362-b4c4-3688e8b7dba8",
   "metadata": {},
   "source": [
    "With this hybrid object, we can simulate the instrument operation by taking the absolute value squared of the 2-dimensional oversampled FFT. \n",
    "\n",
    "The oversampled FFT (denoted $\\mathcal{F}$ in the paper) corresponds to padding the image in both dimensions with zeros until it is a desired size. For our case, we define `M1` and `M2` to be two times the size of our hybrid image, so the resulting FFT is twice oversampled."
   ]
  },
  {
   "cell_type": "code",
   "execution_count": null,
   "id": "34b2925e-77be-4f30-9ea7-b979cf4931d5",
   "metadata": {},
   "outputs": [],
   "source": [
    "Y = np.abs(np.fft.fft2(X0R, s=(M1, M2))) ** 2\n",
    "plt.imshow(np.fft.fftshift(np.log(1 + Y)), cmap=\"viridis\")"
   ]
  },
  {
   "cell_type": "markdown",
   "id": "47c8f2fe-31e4-4016-9018-37dcfd12a8de",
   "metadata": {},
   "source": [
    "We can then simulate the poisson-shot noise model in the physical diffraction problem "
   ]
  },
  {
   "cell_type": "code",
   "execution_count": null,
   "id": "25e3fe7a-8b2c-4c76-ab20-377b4219e117",
   "metadata": {},
   "outputs": [],
   "source": [
    "rate = N_p/ Y.mean()\n",
    "Y_tilde = stats.poisson.rvs(rate * Y)\n",
    "plt.imshow(np.fft.fftshift(np.log(1 + Y_tilde)), cmap=\"viridis\")"
   ]
  },
  {
   "cell_type": "markdown",
   "id": "129090e8-40bd-4b82-963e-834ae0774d6d",
   "metadata": {},
   "source": [
    "Finally, we need to remove the low frequency content of the data. This is caused in the physical experiment by the inclusion of a \"beamstop\", which protects the instrument used by preventing the strongest parts of the beam from directly shining on the detectors.\n",
    "\n",
    "The beamstop is represented in the model by $\\mathcal{B}$, a matrix of 0s and 1s."
   ]
  },
  {
   "cell_type": "code",
   "execution_count": null,
   "id": "77193bce-dd6e-454f-b59e-135009fedf98",
   "metadata": {},
   "outputs": [],
   "source": [
    "B_cal = np.ones((M1,M2), dtype=int)\n",
    "B_cal[M1 // 2 - r + 1: M1 // 2 + r, M2 // 2 - r + 1: M2 // 2 + r] = 0\n",
    "B_cal = np.fft.ifftshift(B_cal)\n",
    "# Sanity check\n",
    "assert (M1 * M2 - B_cal.sum()) == (( 2 * r - 1)**2)\n",
    "plt.imshow(np.fft.fftshift(B_cal), cmap='gray')"
   ]
  },
  {
   "cell_type": "markdown",
   "id": "06359fda-d7a4-4302-a63d-6abb97cb3d0c",
   "metadata": {},
   "source": [
    "After removing these elements from the simulated data, we have the final data which is used in our model"
   ]
  },
  {
   "cell_type": "code",
   "execution_count": null,
   "id": "34e40ec3-89bc-4544-9845-fbc53f53e185",
   "metadata": {},
   "outputs": [],
   "source": [
    "Y_tilde *= B_cal\n",
    "plt.imshow(np.fft.fftshift(np.log(1 + Y_tilde)), cmap=\"viridis\")"
   ]
  },
  {
   "cell_type": "markdown",
   "id": "07bdc7a3-f352-4105-a9ab-b165e2ff45b9",
   "metadata": {
    "tags": []
   },
   "source": [
    "## Stan Model Code\n",
    "\n",
    "The Stan model code is as follows. This is a direct translation of the log density of the forward model described in the paper and used above, with the following notes:\n",
    "\n",
    "- The FFT described in the paper is an \"oversampled\" FFT. This corresponds to embedding the image in a larger array of zeros. We write an overload of the `fft2` function which implements this behavior.\n",
    "- A prior is added to impose an L2 penalty on adjacent pixels. This is not strictly necessary, and for low values of `sigma` induces a Gaussian blur."
   ]
  },
  {
   "cell_type": "code",
   "execution_count": null,
   "id": "cd3f7ab9-6abb-4ae5-b8b7-9734bc989808",
   "metadata": {},
   "outputs": [],
   "source": [
    "# use https://pypi.org/project/cmdstanjupyter/ to display the model inline\n",
    "%load_ext cmdstanjupyter"
   ]
  },
  {
   "cell_type": "code",
   "execution_count": null,
   "id": "1e4208c5-056f-48b3-870b-67a7df65d180",
   "metadata": {
    "tags": []
   },
   "outputs": [],
   "source": [
    "%%stan HoloML_model\n",
    "/**\n",
    " * Preliminary sketch of model (equations 2.2, 2.3) from:\n",
    " *\n",
    " * David A. Barmherzig and Ju Sun. 2022. Towards practical holographic\n",
    " * coherent diffraction imaging via maximum likelihood estimation.\n",
    " * arXiv 2105.11512v2.\n",
    " */\n",
    "\n",
    "functions {\n",
    "  /**\n",
    "   * Return M1 x M2 matrix of 1 values with blocks in corners set to\n",
    "   * 0, where the upper left is (r x r), the upper right is (r x r-1),\n",
    "   * the lower left is (r-1 x r), and the lower right is (r-1 x r-1).\n",
    "   * This corresponds to zeroing out the lowest-frequency portions of\n",
    "   * an FFT.\n",
    "   * @param M1 number of rows\n",
    "   * @param M2 number of cols\n",
    "   * @param r block dimension\n",
    "   * @return matrix of 1 values with 0-padded corners\n",
    "   */\n",
    "  matrix pad_corners(int M1, int M2, int r) {\n",
    "    matrix[M1, M2] B_cal = rep_matrix(1, M1, M2);\n",
    "    if (r == 0) {\n",
    "      return B_cal;\n",
    "    }\n",
    "    // upper left\n",
    "    B_cal[1 : r, 1 : r] = rep_matrix(0, r, r);\n",
    "    // upper right\n",
    "    B_cal[1 : r, M2 - r + 2 : M2] = rep_matrix(0, r, r - 1);\n",
    "    // lower left\n",
    "    B_cal[M1 - r + 2 : M1, 1 : r] = rep_matrix(0, r - 1, r);\n",
    "    // lower right\n",
    "    B_cal[M1 - r + 2 : M1, M2 - r + 2 : M2] = rep_matrix(0, r - 1, r - 1);\n",
    "    return B_cal;\n",
    "  }\n",
    "\n",
    "  /**\n",
    "   * Return the matrix corresponding to the fast Fourier\n",
    "   * transform of Z after it is padded with zeros to size\n",
    "   * N by M\n",
    "   * When N by M is larger than the dimensions of Z,\n",
    "   * this computes an oversampled FFT.\n",
    "   *\n",
    "   * @param Z matrix of values\n",
    "   * @param N number of rows desired (must be >= rows(Z))\n",
    "   * @param M number of columns desired (must be >= cols(Z))\n",
    "   * @return the FFT of Z padded with zeros\n",
    "   */\n",
    "  complex_matrix fft2(complex_matrix Z, int N, int M){\n",
    "    int r = rows(Z);\n",
    "    int c = cols(Z);\n",
    "    if (r > N){\n",
    "      reject(\"N must be at least rows(Z)\");\n",
    "    }\n",
    "    if (c > M){\n",
    "      reject(\"M must be at least cols(Z)\");\n",
    "    }\n",
    "\n",
    "    complex_matrix[N, M] pad = rep_matrix(0, N, M);\n",
    "    pad[1:r, 1:c] = Z;\n",
    "\n",
    "    return fft2(pad);\n",
    "  }\n",
    "\n",
    "}\n",
    "\n",
    "data {\n",
    "  int<lower=0> N;                     // image dimension\n",
    "  matrix<lower=0, upper=1>[N, N] R;   // registration image\n",
    "  int<lower=0, upper=N> d;            // separation between sample and registration image\n",
    "  int<lower=N> M1;                    // rows of padded matrices\n",
    "  int<lower=2 * N + d> M2;            // cols of padded matrices\n",
    "  int<lower=0, upper=M1> r;           // beamstop radius. replaces omega1, omega2 in paper\n",
    "\n",
    "  real<lower=0> N_p;                  // avg number of photons per pixel\n",
    "  array[M1, M2] int<lower=0> Y_tilde; // observed number of photons\n",
    "\n",
    "  real<lower=0> sigma;                // standard deviation of pixel prior.\n",
    "}\n",
    "\n",
    "transformed data {\n",
    "  matrix[M1, M2] B_cal = pad_corners(M1, M2, r);\n",
    "  matrix[d, N] separation = rep_matrix(0, d, N);\n",
    "}\n",
    "\n",
    "parameters {\n",
    "  matrix<lower=0, upper=1>[N, N] X;\n",
    "}\n",
    "\n",
    "model {\n",
    "  // prior - penalizing L2 on adjacent pixels\n",
    "  for (i in 1 : rows(X) - 1) {\n",
    "    X[i] ~ normal(X[i + 1], sigma);\n",
    "  }\n",
    "  for (j in 1 : cols(X) - 1) {\n",
    "    X[ : , j] ~ normal(X[ : , j + 1], sigma);\n",
    "  }\n",
    "\n",
    "  // likelihood\n",
    "\n",
    "  // object representing specimen and reference together\n",
    "  matrix[N, 2*N + d] X0R = append_col(X, append_col(separation, R));\n",
    "  // observed signal - squared magnitude of the (oversampled) FFT\n",
    "  matrix[M1, M2] Y = abs(fft2(X0R, M1, M2)) .^ 2;\n",
    "\n",
    "  real N_p_over_Y_bar = N_p / mean(Y);\n",
    "  matrix[M1, M2] lambda = N_p_over_Y_bar * Y;\n",
    "\n",
    "  for (m1 in 1 : M1) {\n",
    "    for (m2 in 1 : M2) {\n",
    "      if (B_cal[m1, m2]) {\n",
    "        Y_tilde[m1, m2] ~ poisson(lambda[m1, m2]);\n",
    "      }\n",
    "    }\n",
    "  }\n",
    "}"
   ]
  },
  {
   "cell_type": "markdown",
   "id": "cd160cb7-6562-4d2e-9d4a-f648b251ecc6",
   "metadata": {},
   "source": [
    "## Optimization\n",
    "\n",
    "Now that we have our simulated data and our generative model, we can attempt to recover the image. \n",
    "\n",
    "The Stan model needs all of the same information the generative model did, except it is supplied with $\\tilde{Y}$ instead of the true image $X$, plus a scale parameter for the prior, $\\sigma$. Smaller values of $\\sigma$ (approaching 0) lead to increasing amounts of blur in the resulting image."
   ]
  },
  {
   "cell_type": "code",
   "execution_count": null,
   "id": "0add6dea-6a0e-427d-aab2-dbb5bd01055d",
   "metadata": {},
   "outputs": [],
   "source": [
    "sigma = 1 # prior smoothing\n",
    "data = {\n",
    "    \"N\": N,\n",
    "    \"R\": R,\n",
    "    \"d\": N,\n",
    "    \"M1\": M1,\n",
    "    \"M2\": M2,\n",
    "    \"Y_tilde\": Y_tilde,\n",
    "    \"r\": r,\n",
    "    \"N_p\": N_p,\n",
    "    \"sigma\": sigma\n",
    "}"
   ]
  },
  {
   "cell_type": "markdown",
   "id": "6c794fb2-eaf6-4450-bf6e-a56503338357",
   "metadata": {},
   "source": [
    "Here we use optimization via L-BFGS, as opposed to the conjugate gradient approach in the paper. This should take a few (1-3) minutes, depending on the machine you are running on.\n",
    "\n",
    "It is also possible to sample the model using the No-U-Turn Sampler (NUTS), but at this image size it can take a few hours to do so."
   ]
  },
  {
   "cell_type": "code",
   "execution_count": null,
   "id": "20463cb7-458f-43f0-bea7-ca0cba8b6da5",
   "metadata": {},
   "outputs": [],
   "source": [
    "%%time\n",
    "fit = HoloML_model.optimize(data, inits=1)"
   ]
  },
  {
   "cell_type": "markdown",
   "id": "5e2665ab-c96e-4bb0-bb34-5bf22109bb84",
   "metadata": {},
   "source": [
    "We can then plot the recovered image alongside the original"
   ]
  },
  {
   "cell_type": "code",
   "execution_count": null,
   "id": "5b4d70f1-025e-4aa0-9b3c-f4978d8019bc",
   "metadata": {},
   "outputs": [],
   "source": [
    "fig, (ax1, ax2) = plt.subplots(1, 2)\n",
    "ax1.imshow(X_True, cmap=\"gray\", vmin=0, vmax=1)\n",
    "ax1.set_title(\"True Image\")\n",
    "ax1.set_axis_off()\n",
    "ax2.imshow(fit.stan_variable(\"X\"), cmap=\"gray\", vmin=0, vmax=1)\n",
    "ax2.set_title(\"Recovered Image\")\n",
    "ax2.set_axis_off()\n",
    "\n",
    "fig.suptitle(f\"{N}x{N} - N_p: {N_p} - r: {r} - d: {d} - sigma: {sigma}\", y=0.9)\n",
    "plt.tight_layout()"
   ]
  },
  {
   "cell_type": "markdown",
   "id": "aa3fc53f-fd48-486d-90ad-5e46ab11529e",
   "metadata": {},
   "source": [
    " "
   ]
  }
 ],
 "metadata": {
  "kernelspec": {
   "display_name": "Python 3 (ipykernel)",
   "language": "python",
   "name": "python3"
  },
  "language_info": {
   "codemirror_mode": {
    "name": "ipython",
    "version": 3
   },
   "file_extension": ".py",
   "mimetype": "text/x-python",
   "name": "python",
   "nbconvert_exporter": "python",
   "pygments_lexer": "ipython3",
   "version": "3.10.4"
  }
 },
 "nbformat": 4,
 "nbformat_minor": 5
}
